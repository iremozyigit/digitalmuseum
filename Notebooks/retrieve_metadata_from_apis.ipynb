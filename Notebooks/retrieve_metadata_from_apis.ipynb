{
 "cells": [
  {
   "cell_type": "code",
   "execution_count": 2,
   "id": "7d604795-1231-4ff4-92de-c51cd3c8a948",
   "metadata": {
    "scrolled": true
   },
   "outputs": [
    {
     "name": "stdout",
     "output_type": "stream",
     "text": [
      "Fetching artworks for theme: landscape\n"
     ]
    },
    {
     "name": "stderr",
     "output_type": "stream",
     "text": [
      "100%|██████████████████████████████████████████| 6/6 [00:00<00:00, 33734.35it/s]\n"
     ]
    },
    {
     "name": "stdout",
     "output_type": "stream",
     "text": [
      "Fetching artworks for theme: animals\n"
     ]
    },
    {
     "name": "stderr",
     "output_type": "stream",
     "text": [
      "100%|██████████████████████████████████████████| 6/6 [00:00<00:00, 51358.82it/s]\n"
     ]
    },
    {
     "name": "stdout",
     "output_type": "stream",
     "text": [
      "Fetching artworks for theme: history\n"
     ]
    },
    {
     "name": "stderr",
     "output_type": "stream",
     "text": [
      "100%|██████████████████████████████████████████| 6/6 [00:00<00:00, 58798.65it/s]\n"
     ]
    },
    {
     "name": "stdout",
     "output_type": "stream",
     "text": [
      "Fetching artworks for theme: still life\n"
     ]
    },
    {
     "name": "stderr",
     "output_type": "stream",
     "text": [
      "100%|██████████████████████████████████████████| 6/6 [00:00<00:00, 44462.59it/s]\n"
     ]
    },
    {
     "name": "stdout",
     "output_type": "stream",
     "text": [
      "Fetching artworks for theme: mythology\n"
     ]
    },
    {
     "name": "stderr",
     "output_type": "stream",
     "text": [
      "100%|██████████████████████████████████████████| 6/6 [00:00<00:00, 47934.90it/s]\n",
      "100%|███████████████████████████████████████████| 30/30 [00:31<00:00,  1.06s/it]"
     ]
    },
    {
     "name": "stdout",
     "output_type": "stream",
     "text": [
      "✅ Final number of artworks with descriptions: 24\n",
      "✅ Successfully saved to '/Users/Irem/heritage-AI/Notebooks/data/real_museum_metadata.json'\n",
      "          id                                              title  \\\n",
      "0  SK-A-1718                  Winter Landscape with Ice Skaters   \n",
      "1   SK-C-109               Italian Landscape with a Draughtsman   \n",
      "2  SK-A-4118                        River Landscape with Riders   \n",
      "3  SK-A-4688              Italian Landscape with Umbrella Pines   \n",
      "4   SK-A-133  Portrait of a Married Couple, Likely Isaac Abr...   \n",
      "\n",
      "              artist                                          longTitle  \\\n",
      "0  Hendrick Avercamp  Winter Landscape with Ice Skaters, Hendrick Av...   \n",
      "1           Jan Both  Italian Landscape with a Draughtsman, Jan Both...   \n",
      "2       Aelbert Cuyp  River Landscape with Riders, Aelbert Cuyp, c. ...   \n",
      "3      Hendrik Voogd  Italian Landscape with Umbrella Pines, Hendrik...   \n",
      "4         Frans Hals  Portrait of a Married Couple, Likely Isaac Abr...   \n",
      "\n",
      "                                           image_url      theme  \\\n",
      "0  https://lh3.googleusercontent.com/1pTfYJlLwVTi...  landscape   \n",
      "1  https://lh3.googleusercontent.com/KA2hIo0BlMDm...  landscape   \n",
      "2  https://lh3.googleusercontent.com/X7_CHCjksOZY...  landscape   \n",
      "3  https://lh3.googleusercontent.com/aqXgCqxvgXIt...  landscape   \n",
      "4  https://lh3.googleusercontent.com/yfH3HoYjUOOX...  landscape   \n",
      "\n",
      "                                         description  \n",
      "0  The high vantage point of this painting turns ...  \n",
      "1  Our eye meanders happily through this large pa...  \n",
      "2  This is a panoramic, sun-drenched river landsc...  \n",
      "3  Voogd was known as the ‘Dutch Claude’, after t...  \n",
      "4  It was rare for a married couple to be portray...  \n"
     ]
    },
    {
     "name": "stderr",
     "output_type": "stream",
     "text": [
      "\n"
     ]
    }
   ],
   "source": [
    "import requests\n",
    "import pandas as pd\n",
    "import time\n",
    "import os\n",
    "from tqdm import tqdm\n",
    "\n",
    "# 1. Set your Rijksmuseum API Key\n",
    "RIJKSMUSEUM_API_KEY = \"otcPObCt\"\n",
    "\n",
    "# 2. Define the API endpoint\n",
    "RIJKSMUSEUM_ENDPOINT = \"https://www.rijksmuseum.nl/api/en/collection\"\n",
    "\n",
    "# 3. Define a function to search artworks\n",
    "def search_rijksmuseum(query, max_items=20, theme=None):\n",
    "    params = {\n",
    "        \"key\": RIJKSMUSEUM_API_KEY,\n",
    "        \"format\": \"json\",\n",
    "        \"q\": query,\n",
    "        \"ps\": 100  # page size (max 100)\n",
    "    }\n",
    "    response = requests.get(RIJKSMUSEUM_ENDPOINT, params=params)\n",
    "    response.raise_for_status()\n",
    "    data = response.json()\n",
    "    artworks = []\n",
    "\n",
    "    for art_obj in tqdm(data.get('artObjects', [])[:max_items]):\n",
    "        artwork = {\n",
    "            \"id\": art_obj.get(\"objectNumber\"),\n",
    "            \"title\": art_obj.get(\"title\"),\n",
    "            \"artist\": art_obj.get(\"principalOrFirstMaker\"),\n",
    "            \"longTitle\": art_obj.get(\"longTitle\"),\n",
    "            \"image_url\": art_obj.get(\"webImage\", {}).get(\"url\", None),\n",
    "            \"theme\": theme,\n",
    "            \"description\": None  # placeholder for curator description\n",
    "        }\n",
    "        artworks.append(artwork)\n",
    "\n",
    "    return artworks\n",
    "\n",
    "# 4. Function to fetch detailed description (if available)\n",
    "def fetch_artwork_details(object_number):\n",
    "    details_url = f\"https://www.rijksmuseum.nl/api/en/collection/{object_number}\"\n",
    "    params = {\n",
    "        \"key\": RIJKSMUSEUM_API_KEY,\n",
    "        \"format\": \"json\",\n",
    "    }\n",
    "    response = requests.get(details_url, params=params)\n",
    "    response.raise_for_status()\n",
    "    data = response.json()\n",
    "\n",
    "    description = data.get('artObject', {}).get('label', {}).get('description', None)\n",
    "    return description\n",
    "\n",
    "# 5. Collect artworks across different themes\n",
    "themes = [\"landscape\", \"animals\", \"history\", \"still life\", \"mythology\"]\n",
    "artworks = []\n",
    "\n",
    "for theme in themes:\n",
    "    print(f\"Fetching artworks for theme: {theme}\")\n",
    "    themed_artworks = search_rijksmuseum(theme, max_items=6, theme=theme)\n",
    "    artworks.extend(themed_artworks)\n",
    "    time.sleep(1)\n",
    "\n",
    "# 6. Fetch detailed descriptions\n",
    "for art in tqdm(artworks):\n",
    "    if art['id']:\n",
    "        try:\n",
    "            desc = fetch_artwork_details(art['id'])\n",
    "            art['description'] = desc\n",
    "            time.sleep(0.5)\n",
    "        except Exception as e:\n",
    "            print(f\"Failed to fetch details for {art['id']}: {e}\")\n",
    "\n",
    "# 7. Filter artworks with missing descriptions\n",
    "artworks = [art for art in artworks if art['description'] is not None]\n",
    "print(f\"✅ Final number of artworks with descriptions: {len(artworks)}\")\n",
    "\n",
    "# 8. Convert to DataFrame\n",
    "df = pd.DataFrame(artworks)\n",
    "\n",
    "# Create proper `data/` folder in the current working directory (for notebooks)\n",
    "output_dir = os.path.join(os.getcwd(), \"data\")\n",
    "os.makedirs(output_dir, exist_ok=True)\n",
    "\n",
    "# Save to JSON\n",
    "output_path = os.path.join(output_dir, \"real_museum_metadata.json\")\n",
    "df.to_json(output_path, orient=\"records\", indent=4)\n",
    "\n",
    "print(f\"✅ Successfully saved to '{output_path}'\")\n",
    "print(df.head())\n"
   ]
  }
 ],
 "metadata": {
  "kernelspec": {
   "display_name": "Python 3 (ipykernel)",
   "language": "python",
   "name": "python3"
  },
  "language_info": {
   "codemirror_mode": {
    "name": "ipython",
    "version": 3
   },
   "file_extension": ".py",
   "mimetype": "text/x-python",
   "name": "python",
   "nbconvert_exporter": "python",
   "pygments_lexer": "ipython3",
   "version": "3.11.5"
  }
 },
 "nbformat": 4,
 "nbformat_minor": 5
}
